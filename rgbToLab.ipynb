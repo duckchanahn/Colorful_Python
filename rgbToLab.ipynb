{
 "cells": [
  {
   "cell_type": "code",
   "execution_count": 2,
   "metadata": {},
   "outputs": [],
   "source": [
    "def rgb2lab ( inputColor ) :\n",
    "\n",
    "   num = 0\n",
    "   RGB = [0, 0, 0]\n",
    "\n",
    "   for value in inputColor :\n",
    "       value = float(value) / 255\n",
    "\n",
    "       if value > 0.04045 :\n",
    "           value = ( ( value + 0.055 ) / 1.055 ) ** 2.4\n",
    "       else :\n",
    "           value = value / 12.92\n",
    "\n",
    "       RGB[num] = value * 100\n",
    "       num = num + 1\n",
    "\n",
    "   XYZ = [0, 0, 0,]\n",
    "\n",
    "   X = RGB [0] * 0.4124 + RGB [1] * 0.3576 + RGB [2] * 0.1805\n",
    "   Y = RGB [0] * 0.2126 + RGB [1] * 0.7152 + RGB [2] * 0.0722\n",
    "   Z = RGB [0] * 0.0193 + RGB [1] * 0.1192 + RGB [2] * 0.9505\n",
    "   XYZ[ 0 ] = round( X, 4 )\n",
    "   XYZ[ 1 ] = round( Y, 4 )\n",
    "   XYZ[ 2 ] = round( Z, 4 )\n",
    "\n",
    "   XYZ[ 0 ] = float( XYZ[ 0 ] ) / 95.047         # ref_X =  95.047   Observer= 2°, Illuminant= D65\n",
    "   XYZ[ 1 ] = float( XYZ[ 1 ] ) / 100.0          # ref_Y = 100.000\n",
    "   XYZ[ 2 ] = float( XYZ[ 2 ] ) / 108.883        # ref_Z = 108.883\n",
    "\n",
    "   num = 0\n",
    "   for value in XYZ :\n",
    "\n",
    "       if value > 0.008856 :\n",
    "           value = value ** ( 0.3333333333333333 )\n",
    "       else :\n",
    "           value = ( 7.787 * value ) + ( 16 / 116 )\n",
    "\n",
    "       XYZ[num] = value\n",
    "       num = num + 1\n",
    "\n",
    "   Lab = [0, 0, 0]\n",
    "\n",
    "   L = ( 116 * XYZ[ 1 ] ) - 16\n",
    "   a = 500 * ( XYZ[ 0 ] - XYZ[ 1 ] )\n",
    "   b = 200 * ( XYZ[ 1 ] - XYZ[ 2 ] )\n",
    "\n",
    "   Lab [ 0 ] = round( L, 4 )\n",
    "   Lab [ 1 ] = round( a, 4 )\n",
    "   Lab [ 2 ] = round( b, 4 )\n",
    "\n",
    "   return Lab"
   ]
  },
  {
   "cell_type": "code",
   "execution_count": 4,
   "metadata": {},
   "outputs": [
    {
     "name": "stdout",
     "output_type": "stream",
     "text": [
      "<class 'list'>\n"
     ]
    }
   ],
   "source": [
    "test = [33, 32, 21]\n",
    "print(type(rgb2lab(test)))\n"
   ]
  }
 ],
 "metadata": {
  "kernelspec": {
   "display_name": "Python 3",
   "language": "python",
   "name": "python3"
  },
  "language_info": {
   "codemirror_mode": {
    "name": "ipython",
    "version": 3
   },
   "file_extension": ".py",
   "mimetype": "text/x-python",
   "name": "python",
   "nbconvert_exporter": "python",
   "pygments_lexer": "ipython3",
   "version": "3.8.3"
  }
 },
 "nbformat": 4,
 "nbformat_minor": 4
}
