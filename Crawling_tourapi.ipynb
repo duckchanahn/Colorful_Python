{
 "cells": [
  {
   "cell_type": "code",
   "execution_count": null,
   "metadata": {},
   "outputs": [],
   "source": [
    "pip install requests"
   ]
  },
  {
   "cell_type": "code",
   "execution_count": null,
   "metadata": {},
   "outputs": [],
   "source": [
    "pip install selenium"
   ]
  },
  {
   "cell_type": "code",
   "execution_count": null,
   "metadata": {},
   "outputs": [],
   "source": [
    "pip install notebook"
   ]
  },
  {
   "cell_type": "code",
   "execution_count": 1,
   "metadata": {},
   "outputs": [],
   "source": [
    "import time\n",
    "import getpass\n",
    "from selenium.webdriver.common.keys import Keys\n",
    "\n",
    "from selenium import webdriver\n",
    " #-*- coding: UTF-8 -*-\n",
    "from selenium.webdriver.chrome.options import Options\n",
    "from selenium.webdriver.support.wait import WebDriverWait\n",
    "from selenium.webdriver.support.ui import Select"
   ]
  },
  {
   "cell_type": "code",
   "execution_count": null,
   "metadata": {},
   "outputs": [],
   "source": []
  },
  {
   "cell_type": "code",
   "execution_count": 16,
   "metadata": {},
   "outputs": [
    {
     "name": "stdout",
     "output_type": "stream",
     "text": [
      "정렬 시작!\n",
      "정렬 완료!\n",
      "번호 모으기 시작!\n",
      "페이지 시작! ( 1 )\n",
      "페이지 시작! ( 2 )\n",
      "페이지 시작! ( 3 )\n",
      "페이지 시작! ( 4 )\n",
      "페이지 시작! ( 5 )\n",
      "페이지 시작! ( 6 )\n",
      "페이지 시작! ( 7 )\n",
      "페이지 시작! ( 8 )\n",
      "페이지 시작! ( 9 )\n",
      "페이지 시작! ( 10 )\n",
      "페이지 시작! ( 11 )\n",
      "페이지 시작! ( 12 )\n",
      "페이지 시작! ( 13 )\n",
      "페이지 시작! ( 14 )\n",
      "페이지 시작! ( 15 )\n",
      "페이지 시작! ( 16 )\n",
      "페이지 시작! ( 17 )\n",
      "페이지 시작! ( 18 )\n",
      "페이지 시작! ( 19 )\n",
      "페이지 시작! ( 20 )\n",
      "페이지 시작! ( 21 )\n",
      "페이지 시작! ( 22 )\n",
      "페이지 시작! ( 23 )\n",
      "페이지 시작! ( 24 )\n",
      "페이지 시작! ( 25 )\n",
      "5000\n"
     ]
    }
   ],
   "source": [
    "chromedriver = './chromedriver.exe' # 크롬 드라이버 경로\n",
    "\n",
    "\n",
    "options = webdriver.ChromeOptions()\n",
    "options.add_argument('headless')    # 실행했을 때 웹 브라우저를 띄우지 않는 headless chrome 옵션 적용\n",
    "options.add_argument('disable-gpu')    # GPU 사용 안함 --> headless 설정, gpu 사용 안함 : 속도 향상\n",
    "options.add_argument('lang=ko_KR')    # 언어 설정\n",
    "options.add_argument(\"user-agent=Mozilla/5.0 (Windows NT 6.1; WOW64; Trident/7.0; rv:11.0) like Gecko\") # 봇 차단을 막기 위한 우회\n",
    "driver = webdriver.Chrome(chromedriver, options=options) #  옵션 적용\n",
    "\n",
    "driver.implicitly_wait(100) # 위 설정을 적용하는 데 시간이 걸리기 때문에 기다려주기 (최대 100초를 기다리되, 중간에 완료되면 바로 넘어감)\n",
    "\n",
    "driver.get(\"https://api.visitkorea.or.kr/search/galleryList.do\") # driver.get : () 링크로 접속 --> 다음 완결 웹툰 페이지 접속\n",
    "\n",
    "driver.find_element_by_id(\"contenttypeidAll\").click()\n",
    "driver.find_element_by_id(\"typeid_12\").click()\n",
    "driver.find_element_by_id(\"search\").click()\n",
    "\n",
    "driver.implicitly_wait(100)\n",
    "\n",
    "print(\"정렬 시작!\")\n",
    "\n",
    "count_tour_inPage = 200;\n",
    "\n",
    "select_arrange = Select(driver.find_element_by_id('arrange'))\n",
    "select_arrange.select_by_value('READCOUNT')\n",
    "driver.find_element_by_id(\"arrangeView\").click()\n",
    "\n",
    "driver.implicitly_wait(100)\n",
    "\n",
    "select_numOfPage = Select(driver.find_element_by_id('numOfPage'))\n",
    "select_numOfPage.select_by_value(str(count_tour_inPage))\n",
    "driver.find_element_by_id(\"numOfPageView\").click()\n",
    "\n",
    "print(\"정렬 완료!\")\n",
    "print(\"번호 모으기 시작!\")\n",
    "\n",
    "onclick_list = []\n",
    "# goPage(2)\n",
    "# driver.execute_script('goPage(1)')\n",
    "\n",
    "index_page = 1;\n",
    "\n",
    "count_max_tour = int(driver.find_element_by_id(\"number\").text.replace(\",\", \"\"))\n",
    "page_max = int(count_max_tour / count_tour_inPage)\n",
    "if (count_max_tour % count_tour_inPage) != 0:\n",
    "    page_max += 1\n",
    "\n",
    "\n",
    "for index_page in range(1, 26):\n",
    "    javascript_gopage = 'goPage(' + str(index_page) + ')'\n",
    "    driver.execute_script(javascript_gopage)\n",
    "    print(\"페이지 시작! (\", index_page, \")\")\n",
    "    for index_tour in range(1, count_tour_inPage+1):\n",
    "        xpath = '//*[@id=\"listForm\"]/ul/li[' + str(index_tour) + ']/a'\n",
    "        tour_one = driver.find_element_by_xpath(xpath)\n",
    "#         onclick_list.append(tour_one.get_attribute('onclick'))\n",
    "        onclick_list.append(tour_one.text)\n",
    "#     print(\"페이지 끝! \", len(onclick_list))\n",
    "    \n",
    "print(len(onclick_list))\n",
    "    \n",
    "# print(index, \"페이지 번호 모으기 완료!\")\n",
    "\n",
    "# data_name = driver.find_elements_by_class_name('tit_wt') # 웹툰 이름 크롤링"
   ]
  },
  {
   "cell_type": "code",
   "execution_count": 17,
   "metadata": {},
   "outputs": [],
   "source": [
    "import csv\n",
    "\n",
    "with open(\"tourList.csv\", 'w') as file:\n",
    "  writer = csv.writer(file)\n",
    "  writer.writerow(onclick_list)"
   ]
  },
  {
   "cell_type": "code",
   "execution_count": 6,
   "metadata": {},
   "outputs": [
    {
     "ename": "AttributeError",
     "evalue": "'list' object has no attribute 'size'",
     "output_type": "error",
     "traceback": [
      "\u001b[1;31m---------------------------------------------------------------------------\u001b[0m",
      "\u001b[1;31mAttributeError\u001b[0m                            Traceback (most recent call last)",
      "\u001b[1;32m<ipython-input-6-2fbf8f1f4a90>\u001b[0m in \u001b[0;36m<module>\u001b[1;34m\u001b[0m\n\u001b[0;32m      1\u001b[0m \u001b[0ma\u001b[0m \u001b[1;33m=\u001b[0m \u001b[1;33m[\u001b[0m\u001b[1;36m1\u001b[0m\u001b[1;33m]\u001b[0m\u001b[1;33m\u001b[0m\u001b[1;33m\u001b[0m\u001b[0m\n\u001b[1;32m----> 2\u001b[1;33m \u001b[0mprint\u001b[0m\u001b[1;33m(\u001b[0m\u001b[0ma\u001b[0m\u001b[1;33m.\u001b[0m\u001b[0msize\u001b[0m\u001b[1;33m(\u001b[0m\u001b[1;33m)\u001b[0m\u001b[1;33m)\u001b[0m\u001b[1;33m\u001b[0m\u001b[1;33m\u001b[0m\u001b[0m\n\u001b[0m",
      "\u001b[1;31mAttributeError\u001b[0m: 'list' object has no attribute 'size'"
     ]
    }
   ],
   "source": [
    "a = [1]\n",
    "print(a.size())"
   ]
  }
 ],
 "metadata": {
  "kernelspec": {
   "display_name": "Python 3",
   "language": "python",
   "name": "python3"
  },
  "language_info": {
   "codemirror_mode": {
    "name": "ipython",
    "version": 3
   },
   "file_extension": ".py",
   "mimetype": "text/x-python",
   "name": "python",
   "nbconvert_exporter": "python",
   "pygments_lexer": "ipython3",
   "version": "3.8.3"
  }
 },
 "nbformat": 4,
 "nbformat_minor": 4
}
