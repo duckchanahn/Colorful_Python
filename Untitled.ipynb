{
 "cells": [
  {
   "cell_type": "code",
   "execution_count": 1,
   "metadata": {},
   "outputs": [],
   "source": [
    "from PIL import ImageCms\n",
    "\n",
    "class ColorTrans:\n",
    "\n",
    "    '''Class for transforming RGB<->LAB color spaces for PIL images.'''\n",
    "    \n",
    "    def __init__(self):\n",
    "        self.srgb_p = ImageCms.createProfile(\"sRGB\")\n",
    "        self.lab_p  = ImageCms.createProfile(\"LAB\")\n",
    "        self.rgb2lab_trans = ImageCms.buildTransformFromOpenProfiles(srgb_p, lab_p, \"RGB\", \"LAB\")\n",
    "        self.lab2rgb_trans = ImageCms.buildTransformFromOpenProfiles(lab_p, srgb_p, \"LAB\", \"RGB\")\n",
    "    \n",
    "    def rgb2lab(self, img):\n",
    "        return ImageCms.applyTransform(img, self.rgb2lab_trans)\n",
    "\n",
    "    def lab2rgb(self, img):\n",
    "        return ImageCms.applyTransform(img, self.lab2rgb_trans)"
   ]
  },
  {
   "cell_type": "code",
   "execution_count": 11,
   "metadata": {
    "scrolled": true
   },
   "outputs": [
    {
     "ename": "NameError",
     "evalue": "name 'color_trans' is not defined",
     "output_type": "error",
     "traceback": [
      "\u001b[1;31m---------------------------------------------------------------------------\u001b[0m",
      "\u001b[1;31mNameError\u001b[0m                                 Traceback (most recent call last)",
      "\u001b[1;32m<ipython-input-11-cbdc37152b53>\u001b[0m in \u001b[0;36m<module>\u001b[1;34m\u001b[0m\n\u001b[0;32m      4\u001b[0m \u001b[1;31m# ColorTrans()\u001b[0m\u001b[1;33m\u001b[0m\u001b[1;33m\u001b[0m\u001b[1;33m\u001b[0m\u001b[0m\n\u001b[0;32m      5\u001b[0m \u001b[1;33m\u001b[0m\u001b[0m\n\u001b[1;32m----> 6\u001b[1;33m \u001b[0mpersonal_lab\u001b[0m \u001b[1;33m=\u001b[0m \u001b[0mcolor_trans\u001b[0m\u001b[1;33m.\u001b[0m\u001b[0mrgb2lab\u001b[0m\u001b[1;33m(\u001b[0m\u001b[0mpersonal\u001b[0m\u001b[1;33m)\u001b[0m\u001b[1;33m\u001b[0m\u001b[1;33m\u001b[0m\u001b[0m\n\u001b[0m\u001b[0;32m      7\u001b[0m \u001b[0mpersonal_rgb\u001b[0m \u001b[1;33m=\u001b[0m \u001b[0mcolor_trans\u001b[0m\u001b[1;33m.\u001b[0m\u001b[0mlab2rgb\u001b[0m\u001b[1;33m(\u001b[0m\u001b[0mpersonal_lab\u001b[0m\u001b[1;33m)\u001b[0m\u001b[1;33m\u001b[0m\u001b[1;33m\u001b[0m\u001b[0m\n\u001b[0;32m      8\u001b[0m \u001b[1;33m\u001b[0m\u001b[0m\n",
      "\u001b[1;31mNameError\u001b[0m: name 'color_trans' is not defined"
     ]
    }
   ],
   "source": [
    "personal =  [222, 195, 192]\n",
    "season =  [144, 138, 144]\n",
    "\n",
    "# ColorTrans()\n",
    "\n",
    "personal_lab = color_trans.rgb2lab(personal)\n",
    "personal_rgb = color_trans.lab2rgb(personal_lab)\n",
    "\n",
    "print(personal_lab)\n",
    "print(personal_rgb)"
   ]
  },
  {
   "cell_type": "code",
   "execution_count": 10,
   "metadata": {
    "collapsed": true
   },
   "outputs": [
    {
     "ename": "ValueError",
     "evalue": "the input array must be have a shape == (.., ..,[ ..,] 3)), got (3)",
     "output_type": "error",
     "traceback": [
      "\u001b[1;31m---------------------------------------------------------------------------\u001b[0m",
      "\u001b[1;31mValueError\u001b[0m                                Traceback (most recent call last)",
      "\u001b[1;32m<ipython-input-10-6e233d816855>\u001b[0m in \u001b[0;36m<module>\u001b[1;34m\u001b[0m\n\u001b[0;32m      1\u001b[0m \u001b[1;32mfrom\u001b[0m \u001b[0mskimage\u001b[0m\u001b[1;33m.\u001b[0m\u001b[0mcolor\u001b[0m \u001b[1;32mimport\u001b[0m \u001b[0mrgb2lab\u001b[0m\u001b[1;33m,\u001b[0m \u001b[0mlab2rgb\u001b[0m\u001b[1;33m\u001b[0m\u001b[1;33m\u001b[0m\u001b[0m\n\u001b[0;32m      2\u001b[0m \u001b[1;33m\u001b[0m\u001b[0m\n\u001b[1;32m----> 3\u001b[1;33m \u001b[0mlab_t\u001b[0m \u001b[1;33m=\u001b[0m \u001b[0mrgb2lab\u001b[0m\u001b[1;33m(\u001b[0m\u001b[0mpersonal\u001b[0m\u001b[1;33m)\u001b[0m\u001b[1;33m\u001b[0m\u001b[1;33m\u001b[0m\u001b[0m\n\u001b[0m\u001b[0;32m      4\u001b[0m \u001b[0mrgb_t\u001b[0m \u001b[1;33m=\u001b[0m \u001b[0mskimage\u001b[0m\u001b[1;33m.\u001b[0m\u001b[0mcolor\u001b[0m\u001b[1;33m.\u001b[0m\u001b[0mlab2rgb\u001b[0m \u001b[1;33m(\u001b[0m\u001b[0mlab_t\u001b[0m\u001b[1;33m)\u001b[0m\u001b[1;33m\u001b[0m\u001b[1;33m\u001b[0m\u001b[0m\n",
      "\u001b[1;32mD:\\anaconda\\anaconda\\lib\\site-packages\\skimage\\color\\colorconv.py\u001b[0m in \u001b[0;36mrgb2lab\u001b[1;34m(rgb, illuminant, observer)\u001b[0m\n\u001b[0;32m   1030\u001b[0m     \u001b[0ma\u001b[0m \u001b[0mlist\u001b[0m \u001b[0mof\u001b[0m \u001b[0msupported\u001b[0m \u001b[0milluminants\u001b[0m\u001b[1;33m.\u001b[0m\u001b[1;33m\u001b[0m\u001b[1;33m\u001b[0m\u001b[0m\n\u001b[0;32m   1031\u001b[0m     \"\"\"\n\u001b[1;32m-> 1032\u001b[1;33m     \u001b[1;32mreturn\u001b[0m \u001b[0mxyz2lab\u001b[0m\u001b[1;33m(\u001b[0m\u001b[0mrgb2xyz\u001b[0m\u001b[1;33m(\u001b[0m\u001b[0mrgb\u001b[0m\u001b[1;33m)\u001b[0m\u001b[1;33m,\u001b[0m \u001b[0milluminant\u001b[0m\u001b[1;33m,\u001b[0m \u001b[0mobserver\u001b[0m\u001b[1;33m)\u001b[0m\u001b[1;33m\u001b[0m\u001b[1;33m\u001b[0m\u001b[0m\n\u001b[0m\u001b[0;32m   1033\u001b[0m \u001b[1;33m\u001b[0m\u001b[0m\n\u001b[0;32m   1034\u001b[0m \u001b[1;33m\u001b[0m\u001b[0m\n",
      "\u001b[1;32mD:\\anaconda\\anaconda\\lib\\site-packages\\skimage\\color\\colorconv.py\u001b[0m in \u001b[0;36mrgb2xyz\u001b[1;34m(rgb)\u001b[0m\n\u001b[0;32m    672\u001b[0m     \u001b[1;31m# Follow the algorithm from http://www.easyrgb.com/index.php\u001b[0m\u001b[1;33m\u001b[0m\u001b[1;33m\u001b[0m\u001b[1;33m\u001b[0m\u001b[0m\n\u001b[0;32m    673\u001b[0m     \u001b[1;31m# except we don't multiply/divide by 100 in the conversion\u001b[0m\u001b[1;33m\u001b[0m\u001b[1;33m\u001b[0m\u001b[1;33m\u001b[0m\u001b[0m\n\u001b[1;32m--> 674\u001b[1;33m     \u001b[0marr\u001b[0m \u001b[1;33m=\u001b[0m \u001b[0m_prepare_colorarray\u001b[0m\u001b[1;33m(\u001b[0m\u001b[0mrgb\u001b[0m\u001b[1;33m)\u001b[0m\u001b[1;33m.\u001b[0m\u001b[0mcopy\u001b[0m\u001b[1;33m(\u001b[0m\u001b[1;33m)\u001b[0m\u001b[1;33m\u001b[0m\u001b[1;33m\u001b[0m\u001b[0m\n\u001b[0m\u001b[0;32m    675\u001b[0m     \u001b[0mmask\u001b[0m \u001b[1;33m=\u001b[0m \u001b[0marr\u001b[0m \u001b[1;33m>\u001b[0m \u001b[1;36m0.04045\u001b[0m\u001b[1;33m\u001b[0m\u001b[1;33m\u001b[0m\u001b[0m\n\u001b[0;32m    676\u001b[0m     \u001b[0marr\u001b[0m\u001b[1;33m[\u001b[0m\u001b[0mmask\u001b[0m\u001b[1;33m]\u001b[0m \u001b[1;33m=\u001b[0m \u001b[0mnp\u001b[0m\u001b[1;33m.\u001b[0m\u001b[0mpower\u001b[0m\u001b[1;33m(\u001b[0m\u001b[1;33m(\u001b[0m\u001b[0marr\u001b[0m\u001b[1;33m[\u001b[0m\u001b[0mmask\u001b[0m\u001b[1;33m]\u001b[0m \u001b[1;33m+\u001b[0m \u001b[1;36m0.055\u001b[0m\u001b[1;33m)\u001b[0m \u001b[1;33m/\u001b[0m \u001b[1;36m1.055\u001b[0m\u001b[1;33m,\u001b[0m \u001b[1;36m2.4\u001b[0m\u001b[1;33m)\u001b[0m\u001b[1;33m\u001b[0m\u001b[1;33m\u001b[0m\u001b[0m\n",
      "\u001b[1;32mD:\\anaconda\\anaconda\\lib\\site-packages\\skimage\\color\\colorconv.py\u001b[0m in \u001b[0;36m_prepare_colorarray\u001b[1;34m(arr)\u001b[0m\n\u001b[0;32m    143\u001b[0m         msg = (\"the input array must be have a shape == (.., ..,[ ..,] 3)), \" +\n\u001b[0;32m    144\u001b[0m                \"got (\" + (\", \".join(map(str, arr.shape))) + \")\")\n\u001b[1;32m--> 145\u001b[1;33m         \u001b[1;32mraise\u001b[0m \u001b[0mValueError\u001b[0m\u001b[1;33m(\u001b[0m\u001b[0mmsg\u001b[0m\u001b[1;33m)\u001b[0m\u001b[1;33m\u001b[0m\u001b[1;33m\u001b[0m\u001b[0m\n\u001b[0m\u001b[0;32m    146\u001b[0m \u001b[1;33m\u001b[0m\u001b[0m\n\u001b[0;32m    147\u001b[0m     \u001b[1;32mreturn\u001b[0m \u001b[0mdtype\u001b[0m\u001b[1;33m.\u001b[0m\u001b[0mimg_as_float\u001b[0m\u001b[1;33m(\u001b[0m\u001b[0marr\u001b[0m\u001b[1;33m)\u001b[0m\u001b[1;33m\u001b[0m\u001b[1;33m\u001b[0m\u001b[0m\n",
      "\u001b[1;31mValueError\u001b[0m: the input array must be have a shape == (.., ..,[ ..,] 3)), got (3)"
     ]
    }
   ],
   "source": [
    "from skimage.color import rgb2lab, lab2rgb\n",
    "\n",
    "lab_t = rgb2lab(personal)\n",
    "rgb_t = skimage.color.lab2rgb (lab_t)"
   ]
  },
  {
   "cell_type": "code",
   "execution_count": 12,
   "metadata": {},
   "outputs": [
    {
     "ename": "SyntaxError",
     "evalue": "invalid syntax (<ipython-input-12-b193f805bc20>, line 12)",
     "output_type": "error",
     "traceback": [
      "\u001b[1;36m  File \u001b[1;32m\"<ipython-input-12-b193f805bc20>\"\u001b[1;36m, line \u001b[1;32m12\u001b[0m\n\u001b[1;33m    r = r > 0.0031308 ? 1.055*math.pow(r, 1/2.4) - 0.055 : 12.92*r;\u001b[0m\n\u001b[1;37m                      ^\u001b[0m\n\u001b[1;31mSyntaxError\u001b[0m\u001b[1;31m:\u001b[0m invalid syntax\n"
     ]
    }
   ],
   "source": [
    "import math\n",
    "\n",
    "def xyzTorgb(x_o, y_o, z_o):\n",
    "    x = x_o / 100;\n",
    "    y = y_o / 100;\n",
    "    z = z_o / 100;\n",
    "\n",
    "    r = x * 3.2406 + y * -1.5372 + z * -0.4986;\n",
    "    g = x * -0.9689 + y * 1.8758 + z * 0.0415;\n",
    "    b = x * 0.0557 + y * -0.2040 + z * 1.0570;\n",
    "\n",
    "    if r > 0.0031308:\n",
    "        r = 1.055*math.pow(r, 1/2.4) - 0.055\n",
    "    else:\n",
    "        12.92*r\n",
    "    \n",
    "    if g > 0.0031308:\n",
    "        g = 1.055*math.pow(g, 1/2.4)- 0.055\n",
    "    else:\n",
    "        12.92*g\n",
    "    \n",
    "    if b > 0.0031308:\n",
    "        b = 1.055*math.pow(b, 1/2.4) - 0.055\n",
    "    else:\n",
    "        12.92*b\n",
    "        \n",
    "    rgb = [r, g, b]\n",
    "    \n",
    "    print(rgb)\n",
    "        \n",
    "    return rgb"
   ]
  },
  {
   "cell_type": "code",
   "execution_count": 2,
   "metadata": {},
   "outputs": [
    {
     "name": "stdout",
     "output_type": "stream",
     "text": [
      "Collecting colormath\n",
      "  Downloading colormath-3.0.0.tar.gz (39 kB)\n",
      "Requirement already satisfied: numpy in d:\\anaconda\\anaconda\\lib\\site-packages (from colormath) (1.19.5)\n",
      "Requirement already satisfied: networkx>=2.0 in d:\\anaconda\\anaconda\\lib\\site-packages (from colormath) (2.4)\n",
      "Requirement already satisfied: decorator>=4.3.0 in d:\\anaconda\\anaconda\\lib\\site-packages (from networkx>=2.0->colormath) (4.4.2)\n",
      "Building wheels for collected packages: colormath\n",
      "  Building wheel for colormath (setup.py): started\n",
      "  Building wheel for colormath (setup.py): finished with status 'done'\n",
      "  Created wheel for colormath: filename=colormath-3.0.0-py3-none-any.whl size=39392 sha256=c4934433ac750eaafaa23efb37d0f5bfad3c7793409264d2168339d203f799d5\n",
      "  Stored in directory: c:\\users\\tkdgu\\appdata\\local\\pip\\cache\\wheels\\8b\\74\\a8\\df86fd600a6c68547019383b14765e2213085feb1a2fbf0db1\n",
      "Successfully built colormath\n",
      "Installing collected packages: colormath\n",
      "Successfully installed colormath-3.0.0\n",
      "Note: you may need to restart the kernel to use updated packages.\n"
     ]
    }
   ],
   "source": [
    "pip install colormath"
   ]
  },
  {
   "cell_type": "code",
   "execution_count": 6,
   "metadata": {},
   "outputs": [],
   "source": [
    "from colormath.color_objects import sRGBColor, LabColor\n",
    "from colormath.color_conversions import convert_color"
   ]
  },
  {
   "cell_type": "code",
   "execution_count": 11,
   "metadata": {},
   "outputs": [
    {
     "name": "stdout",
     "output_type": "stream",
     "text": [
      "<class 'float'>\n"
     ]
    }
   ],
   "source": [
    "lab = LabColor(80.94161661479475, 9.040114899753537, 4.998783086527103)\n",
    "rgb = convert_color(lab, sRGBColor)\n",
    "print(type(rgb.rgb_r))"
   ]
  },
  {
   "cell_type": "code",
   "execution_count": 34,
   "metadata": {},
   "outputs": [
    {
     "name": "stdout",
     "output_type": "stream",
     "text": [
      "되나?\n",
      "personal_low :  [61.11279999999999, 9.0867, 4.9875] , personal_high :  [101.1128, 9.0867, 4.9875]\n",
      "low :  [166.03407298796265, 141.76494921822484, 139.08583513700788] , high :  [279.2581536121365, 252.01696153782254, 248.91612444856696]\n",
      "[81.1128, 9.0867, 4.9875]\n"
     ]
    },
    {
     "data": {
      "text/plain": [
       "True"
      ]
     },
     "execution_count": 34,
     "metadata": {},
     "output_type": "execute_result"
    }
   ],
   "source": [
    "import cv2 as cv2\n",
    "import numpy as np\n",
    "from PIL import Image, ImageDraw\n",
    "\n",
    "from sklearn.cluster import KMeans\n",
    "# import matplotlib.pyplot as plt\n",
    "\n",
    "import json\n",
    "import requests\n",
    "\n",
    "from flask import Flask, request, jsonify\n",
    "import base64\n",
    "\n",
    "import logging\n",
    "import sys\n",
    "\n",
    "from PIL import Image\n",
    "\n",
    "from colormath.color_objects import sRGBColor, LabColor\n",
    "from colormath.color_conversions import convert_color\n",
    "\n",
    "\n",
    "def lab2rgb ( inputColor ) :\n",
    "    lab = LabColor(inputColor[0], inputColor[1], inputColor[2]) \n",
    "    rgb_ratio = convert_color(lab, sRGBColor)\n",
    "    rgb = [0, 0, 0]\n",
    "    rgb[0] = rgb_ratio.rgb_r * 255\n",
    "    rgb[1] = rgb_ratio.rgb_g * 255\n",
    "    rgb[2] = rgb_ratio.rgb_b * 255\n",
    "    return rgb\n",
    "\n",
    "\n",
    "personal =  [81.1128, 9.0867, 4.9875]\n",
    "\n",
    "if (personal != [0, 0, 0]) & (personal != [255, 255, 255]):\n",
    "    print(\"되나?\")\n",
    "\n",
    "personal_low = [personal[0]-20, personal[1], personal[2]]\n",
    "personal_high = [personal[0]+20, personal[1], personal[2]]\n",
    "low = lab2rgb(personal_low)\n",
    "high = lab2rgb(personal_high)\n",
    "\n",
    "print('personal_low : ', personal_low, \", personal_high : \", personal_high)\n",
    "print('low : ', low, \", high : \", high)\n",
    "\n",
    "print(personal)\n",
    "\n",
    "# imageUrl = 'img/test_img_brown_1.jpg'\n",
    "imageUrl = 'img/test_img_black_1.jpg'\n",
    "# imageUrl = 'img/test_img_black_3.jpg'\n",
    "imageUrl = 'img/test_img_black_2.jpg'\n",
    "\n",
    "# 이미지 불러오기\n",
    "img = cv2.imread(imageUrl)\n",
    "\n",
    "img = cv2.inRange(img, (low[0], low[1], low[2]), (high[0], high[2], high[2]))\n",
    "\n",
    "\n",
    "h, w, c = img.shape\n",
    "\n",
    "for x in range(0, w):\n",
    "    for y in range(0, h):\n",
    "        if img[y, x][0] == 0 and img[y, x][1] == 0 and img[y, x][2] == 0:\n",
    "            img[y, x][0] = 0\n",
    "            img[y, x][1] = 0\n",
    "            img[y, x][2] = 0\n",
    "\n",
    "\n",
    "resultimg_url = 'img/' + 'test' + '_result.png'\n",
    "cv2.imwrite(resultimg_url, (img))\n"
   ]
  }
 ],
 "metadata": {
  "kernelspec": {
   "display_name": "Python 3",
   "language": "python",
   "name": "python3"
  },
  "language_info": {
   "codemirror_mode": {
    "name": "ipython",
    "version": 3
   },
   "file_extension": ".py",
   "mimetype": "text/x-python",
   "name": "python",
   "nbconvert_exporter": "python",
   "pygments_lexer": "ipython3",
   "version": "3.8.3"
  }
 },
 "nbformat": 4,
 "nbformat_minor": 4
}
