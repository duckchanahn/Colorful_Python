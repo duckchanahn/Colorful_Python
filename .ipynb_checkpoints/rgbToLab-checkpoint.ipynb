{
 "cells": [
  {
   "cell_type": "code",
   "execution_count": 16,
   "metadata": {},
   "outputs": [],
   "source": [
    "def rgb2lab ( inputColor ) :\n",
    "\n",
    "   num = 0\n",
    "   RGB = [0, 0, 0]\n",
    "\n",
    "   for value in inputColor :\n",
    "       value = float(value) / 255\n",
    "\n",
    "       if value > 0.04045 :\n",
    "           value = ( ( value + 0.055 ) / 1.055 ) ** 2.4\n",
    "       else :\n",
    "           value = value / 12.92\n",
    "\n",
    "       RGB[num] = value * 100\n",
    "       num = num + 1\n",
    "\n",
    "   XYZ = [0, 0, 0,]\n",
    "\n",
    "   X = RGB [0] * 0.4124 + RGB [1] * 0.3576 + RGB [2] * 0.1805\n",
    "   Y = RGB [0] * 0.2126 + RGB [1] * 0.7152 + RGB [2] * 0.0722\n",
    "   Z = RGB [0] * 0.0193 + RGB [1] * 0.1192 + RGB [2] * 0.9505\n",
    "   XYZ[ 0 ] = round( X, 4 )\n",
    "   XYZ[ 1 ] = round( Y, 4 )\n",
    "   XYZ[ 2 ] = round( Z, 4 )\n",
    "\n",
    "   XYZ[ 0 ] = float( XYZ[ 0 ] ) / 95.047         # ref_X =  95.047   Observer= 2°, Illuminant= D65\n",
    "   XYZ[ 1 ] = float( XYZ[ 1 ] ) / 100.0          # ref_Y = 100.000\n",
    "   XYZ[ 2 ] = float( XYZ[ 2 ] ) / 108.883        # ref_Z = 108.883\n",
    "\n",
    "   num = 0\n",
    "   for value in XYZ :\n",
    "\n",
    "       if value > 0.008856 :\n",
    "           value = value ** ( 0.3333333333333333 )\n",
    "       else :\n",
    "           value = ( 7.787 * value ) + ( 16 / 116 )\n",
    "\n",
    "       XYZ[num] = value\n",
    "       num = num + 1\n",
    "\n",
    "   Lab = [0, 0, 0]\n",
    "\n",
    "   L = ( 116 * XYZ[ 1 ] ) - 16\n",
    "   a = 500 * ( XYZ[ 0 ] - XYZ[ 1 ] )\n",
    "   b = 200 * ( XYZ[ 1 ] - XYZ[ 2 ] )\n",
    "\n",
    "   Lab [ 0 ] = round( L, 4 )\n",
    "   Lab [ 1 ] = round( a, 4 )\n",
    "   Lab [ 2 ] = round( b, 4 )\n",
    "\n",
    "   return Lab"
   ]
  },
  {
   "cell_type": "code",
   "execution_count": 18,
   "metadata": {},
   "outputs": [],
   "source": [
    "def hex2rgb(color_hex):\n",
    "\n",
    "    color_R = int(color_hex[0:2], 16)\n",
    "    color_G = int(color_hex[2:4], 16)\n",
    "    color_B = int(color_hex[4:6], 16)\n",
    "\n",
    "    color_rgb = [color_R, color_G, color_B]\n",
    "\n",
    "    return color_rgb"
   ]
  },
  {
   "cell_type": "code",
   "execution_count": 20,
   "metadata": {},
   "outputs": [],
   "source": [
    "def getPersonalColor(personal):\n",
    "    \n",
    "    result = \"\"\n",
    "    \n",
    "    if(personal[1] > personal[2]):\n",
    "        result += \"쿨톤\"\n",
    "        \n",
    "        if(personal[0] > 50):\n",
    "            result = \"겨울\" + result\n",
    "        else:\n",
    "            result = \"여름\" + result\n",
    "            \n",
    "    else:\n",
    "        result += \"웜톤\"\n",
    "        \n",
    "        if(personal[0] > 50):\n",
    "            result = \"봄\" + result\n",
    "        else:\n",
    "            result = \"가을\" + result\n",
    "            \n",
    "    return result"
   ]
  },
  {
   "cell_type": "code",
   "execution_count": 21,
   "metadata": {},
   "outputs": [
    {
     "name": "stdout",
     "output_type": "stream",
     "text": [
      "['FFCED3', 'F09A9A', 'E57473', 'EF5450', 'F44336', 'E53935', 'D32F2F', 'C62828', 'B71C1C', 'FF8A80', 'FF5252', 'FF1744', 'D50000', 'F44336']\n",
      "겨울쿨톤\n",
      "겨울쿨톤\n",
      "겨울쿨톤\n",
      "겨울쿨톤\n",
      "겨울쿨톤\n",
      "겨울쿨톤\n",
      "여름쿨톤\n",
      "여름쿨톤\n",
      "여름쿨톤\n",
      "겨울쿨톤\n",
      "겨울쿨톤\n",
      "겨울쿨톤\n",
      "여름쿨톤\n",
      "겨울쿨톤\n"
     ]
    }
   ],
   "source": [
    "list_entp = []\n",
    "list_entp.append(\"FFCED3\")\n",
    "list_entp.append(\"F09A9A\")\n",
    "list_entp.append(\"E57473\")\n",
    "list_entp.append(\"EF5450\")\n",
    "list_entp.append(\"F44336\")\n",
    "list_entp.append(\"E53935\")\n",
    "list_entp.append(\"D32F2F\")\n",
    "list_entp.append(\"C62828\")\n",
    "list_entp.append(\"B71C1C\")\n",
    "list_entp.append(\"FF8A80\")\n",
    "list_entp.append(\"FF5252\")\n",
    "list_entp.append(\"FF1744\")\n",
    "list_entp.append(\"D50000\")\n",
    "list_entp.append(\"F44336\")\n",
    "\n",
    "print(list_entp)\n",
    "\n",
    "for rgb in list_entp:\n",
    "    print(getPersonalColor(rgb2lab(hex2rgb(rgb))))"
   ]
  },
  {
   "cell_type": "code",
   "execution_count": 23,
   "metadata": {},
   "outputs": [
    {
     "name": "stdout",
     "output_type": "stream",
     "text": [
      "['FFCED3', 'F09A9A', 'E57473', 'EF5450', 'F44336', 'E53935', 'D32F2F', 'C62828', 'B71C1C', 'FF8A80', 'FF5252', 'FF1744', 'D50000', 'F44336']\n",
      "겨울쿨톤\n",
      "겨울쿨톤\n",
      "겨울쿨톤\n",
      "겨울쿨톤\n",
      "겨울쿨톤\n",
      "여름쿨톤\n",
      "여름쿨톤\n",
      "여름쿨톤\n",
      "여름쿨톤\n",
      "겨울쿨톤\n",
      "겨울쿨톤\n",
      "겨울쿨톤\n",
      "여름쿨톤\n",
      "겨울쿨톤\n"
     ]
    }
   ],
   "source": [
    "list_estp = []\n",
    "list_estp.append(\"F9BBD0\")\n",
    "list_estp.append(\"F590B2\")\n",
    "list_estp.append(\"F16292\")\n",
    "list_estp.append(\"EC407A\")\n",
    "list_estp.append(\"E91E63\")\n",
    "list_estp.append(\"D81B60\")\n",
    "list_estp.append(\"C2185B\")\n",
    "list_estp.append(\"AD1457\")\n",
    "list_estp.append(\"880E4F\")\n",
    "list_estp.append(\"FF80AB\")\n",
    "list_estp.append(\"FF4081\")\n",
    "list_estp.append(\"F50057\")\n",
    "list_estp.append(\"C51162\")\n",
    "list_estp.append(\"E91E63\")\n",
    "\n",
    "print(list_entp)\n",
    "\n",
    "for rgb in list_estp:\n",
    "    print(getPersonalColor(rgb2lab(hex2rgb(rgb))))"
   ]
  },
  {
   "cell_type": "code",
   "execution_count": 24,
   "metadata": {},
   "outputs": [
    {
     "name": "stdout",
     "output_type": "stream",
     "text": [
      "['E2BEE8', 'CE94D8', 'BA68C8', 'AB47BC', '9C27B0', '8E24AA', '7B1FA2', '6A1B9A', '4A148C', 'EA81FD', 'E040FC', 'D500F9', 'AA01FF', '9C27B0']\n",
      "겨울쿨톤\n",
      "겨울쿨톤\n",
      "겨울쿨톤\n",
      "여름쿨톤\n",
      "여름쿨톤\n",
      "여름쿨톤\n",
      "여름쿨톤\n",
      "여름쿨톤\n",
      "여름쿨톤\n",
      "겨울쿨톤\n",
      "겨울쿨톤\n",
      "겨울쿨톤\n",
      "여름쿨톤\n",
      "여름쿨톤\n"
     ]
    }
   ],
   "source": [
    "list_enfj = []\n",
    "list_enfj.append(\"E2BEE8\")\n",
    "list_enfj.append(\"CE94D8\")\n",
    "list_enfj.append(\"BA68C8\")\n",
    "list_enfj.append(\"AB47BC\")\n",
    "list_enfj.append(\"9C27B0\")\n",
    "list_enfj.append(\"8E24AA\")\n",
    "list_enfj.append(\"7B1FA2\")\n",
    "list_enfj.append(\"6A1B9A\")\n",
    "list_enfj.append(\"4A148C\")\n",
    "list_enfj.append(\"EA81FD\")\n",
    "list_enfj.append(\"E040FC\")\n",
    "list_enfj.append(\"D500F9\")\n",
    "list_enfj.append(\"AA01FF\")\n",
    "list_enfj.append(\"9C27B0\")\n",
    "\n",
    "print(list_enfj)\n",
    "\n",
    "for rgb in list_enfj:\n",
    "    print(getPersonalColor(rgb2lab(hex2rgb(rgb))))"
   ]
  },
  {
   "cell_type": "code",
   "execution_count": 25,
   "metadata": {},
   "outputs": [
    {
     "name": "stdout",
     "output_type": "stream",
     "text": [
      "['D1C4EA', 'B39DDB', '9576CD', '7E57C2', '673AB7', '5E35B1', '512DA8', '4527A0', '311B92', 'B389FF', '7C4CFF', '651FFF', '6200EA', '673AB7']\n",
      "겨울쿨톤\n",
      "겨울쿨톤\n",
      "겨울쿨톤\n",
      "여름쿨톤\n",
      "여름쿨톤\n",
      "여름쿨톤\n",
      "여름쿨톤\n",
      "여름쿨톤\n",
      "여름쿨톤\n",
      "겨울쿨톤\n",
      "여름쿨톤\n",
      "여름쿨톤\n",
      "여름쿨톤\n",
      "여름쿨톤\n"
     ]
    }
   ],
   "source": [
    "list_INFJ = []\n",
    "list_INFJ.append(\"D1C4EA\")\n",
    "list_INFJ.append(\"B39DDB\")\n",
    "list_INFJ.append(\"9576CD\")\n",
    "list_INFJ.append(\"7E57C2\")\n",
    "list_INFJ.append(\"673AB7\")\n",
    "list_INFJ.append(\"5E35B1\")\n",
    "list_INFJ.append(\"512DA8\")\n",
    "list_INFJ.append(\"4527A0\")\n",
    "list_INFJ.append(\"311B92\")\n",
    "list_INFJ.append(\"B389FF\")\n",
    "list_INFJ.append(\"7C4CFF\")\n",
    "list_INFJ.append(\"651FFF\")\n",
    "list_INFJ.append(\"6200EA\")\n",
    "list_INFJ.append(\"673AB7\")\n",
    "\n",
    "print(list_INFJ)\n",
    "\n",
    "for rgb in list_INFJ:\n",
    "    print(getPersonalColor(rgb2lab(hex2rgb(rgb))))"
   ]
  },
  {
   "cell_type": "code",
   "execution_count": 26,
   "metadata": {},
   "outputs": [
    {
     "name": "stdout",
     "output_type": "stream",
     "text": [
      "['C5CAE9', '9FA8DA', '7986CB', '5C6BC0', '3F51B5', '3949AB', '303F9F', '283593', '1A237E', '8D9FFF', '536DFF', '3D5AFE', '304FFE', '3F51B5']\n",
      "겨울쿨톤\n",
      "겨울쿨톤\n",
      "겨울쿨톤\n",
      "여름쿨톤\n",
      "여름쿨톤\n",
      "여름쿨톤\n",
      "여름쿨톤\n",
      "여름쿨톤\n",
      "여름쿨톤\n",
      "겨울쿨톤\n",
      "겨울쿨톤\n",
      "여름쿨톤\n",
      "여름쿨톤\n",
      "여름쿨톤\n"
     ]
    }
   ],
   "source": [
    "list_ISFJ = []\n",
    "list_ISFJ.append(\"C5CAE9\")\n",
    "list_ISFJ.append(\"9FA8DA\")\n",
    "list_ISFJ.append(\"7986CB\")\n",
    "list_ISFJ.append(\"5C6BC0\")\n",
    "list_ISFJ.append(\"3F51B5\")\n",
    "list_ISFJ.append(\"3949AB\")\n",
    "list_ISFJ.append(\"303F9F\")\n",
    "list_ISFJ.append(\"283593\")\n",
    "list_ISFJ.append(\"1A237E\")\n",
    "list_ISFJ.append(\"8D9FFF\")\n",
    "list_ISFJ.append(\"536DFF\")\n",
    "list_ISFJ.append(\"3D5AFE\")\n",
    "list_ISFJ.append(\"304FFE\")\n",
    "list_ISFJ.append(\"3F51B5\")\n",
    "\n",
    "print(list_ISFJ)\n",
    "\n",
    "for rgb in list_ISFJ:\n",
    "    print(getPersonalColor(rgb2lab(hex2rgb(rgb))))"
   ]
  },
  {
   "cell_type": "code",
   "execution_count": 27,
   "metadata": {},
   "outputs": [
    {
     "name": "stdout",
     "output_type": "stream",
     "text": [
      "['BBDEFC', '91CBFA', '64B6F6', '42A5F5', '2196F3', '1E88E5', '1976D2', '1565C0', '0D47A1', '82B1FF', '448AFF', '2979FF', '2962FF', '2196F3']\n",
      "겨울쿨톤\n",
      "겨울쿨톤\n",
      "겨울쿨톤\n",
      "겨울쿨톤\n",
      "겨울쿨톤\n",
      "겨울쿨톤\n",
      "여름쿨톤\n",
      "여름쿨톤\n",
      "여름쿨톤\n",
      "겨울쿨톤\n",
      "겨울쿨톤\n",
      "겨울쿨톤\n",
      "여름쿨톤\n",
      "겨울쿨톤\n"
     ]
    }
   ],
   "source": [
    "list_INTP = []\n",
    "list_INTP.append(\"BBDEFC\")\n",
    "list_INTP.append(\"91CBFA\")\n",
    "list_INTP.append(\"64B6F6\")\n",
    "list_INTP.append(\"42A5F5\")\n",
    "list_INTP.append(\"2196F3\")\n",
    "list_INTP.append(\"1E88E5\")\n",
    "list_INTP.append(\"1976D2\")\n",
    "list_INTP.append(\"1565C0\")\n",
    "list_INTP.append(\"0D47A1\")\n",
    "list_INTP.append(\"82B1FF\")\n",
    "list_INTP.append(\"448AFF\")\n",
    "list_INTP.append(\"2979FF\")\n",
    "list_INTP.append(\"2962FF\")\n",
    "list_INTP.append(\"2196F3\")\n",
    "\n",
    "print(list_INTP)\n",
    "\n",
    "for rgb in list_INTP:\n",
    "    print(getPersonalColor(rgb2lab(hex2rgb(rgb))))"
   ]
  },
  {
   "cell_type": "code",
   "execution_count": 37,
   "metadata": {},
   "outputs": [
    {
     "name": "stdout",
     "output_type": "stream",
     "text": [
      "봄웜톤\n",
      "봄웜톤\n",
      "봄웜톤\n",
      "봄웜톤\n",
      "봄웜톤\n",
      "봄웜톤\n",
      "가을웜톤\n",
      "가을웜톤\n",
      "가을웜톤\n",
      "봄웜톤\n",
      "봄웜톤\n",
      "봄웜톤\n",
      "봄웜톤\n",
      "봄웜톤\n"
     ]
    }
   ],
   "source": [
    "list_ISTJ = []\n",
    "list_ISTJ.append(\"B3E5FD\")\n",
    "list_ISTJ.append(\"80D4FA\")\n",
    "list_ISTJ.append(\"50C4F8\")\n",
    "list_ISTJ.append(\"29B6F6\")\n",
    "list_ISTJ.append(\"03A9F4\")\n",
    "list_ISTJ.append(\"039BE5\")\n",
    "list_ISTJ.append(\"0288D1\")\n",
    "list_ISTJ.append(\"0277BD\")\n",
    "list_ISTJ.append(\"01579B\")\n",
    "list_ISTJ.append(\"80D8FF\")\n",
    "list_ISTJ.append(\"40C4FF\")\n",
    "list_ISTJ.append(\"00B0FF\")\n",
    "list_ISTJ.append(\"0091EA\")\n",
    "list_ISTJ.append(\"03A9F4\")\n",
    "\n",
    "for rgb in list_ISFP:\n",
    "    print(getPersonalColor(rgb2lab(hex2rgb(rgb))))"
   ]
  },
  {
   "cell_type": "code",
   "execution_count": 36,
   "metadata": {},
   "outputs": [
    {
     "name": "stdout",
     "output_type": "stream",
     "text": [
      "봄웜톤\n",
      "봄웜톤\n",
      "봄웜톤\n",
      "봄웜톤\n",
      "봄웜톤\n",
      "봄웜톤\n",
      "가을웜톤\n",
      "가을웜톤\n",
      "가을웜톤\n",
      "봄웜톤\n",
      "봄웜톤\n",
      "봄웜톤\n",
      "봄웜톤\n",
      "봄웜톤\n"
     ]
    }
   ],
   "source": [
    "list_INTJ = []\n",
    "list_INTJ.append(\"B2ECF3\")\n",
    "list_INTJ.append(\"FFCED3\")\n",
    "list_INTJ.append(\"80DEEA\")\n",
    "list_INTJ.append(\"26C6DA\")\n",
    "list_INTJ.append(\"00BCD4\")\n",
    "list_INTJ.append(\"00ACC1\")\n",
    "list_INTJ.append(\"0097A7\")\n",
    "list_INTJ.append(\"00838F\")\n",
    "list_INTJ.append(\"006064\")\n",
    "list_INTJ.append(\"84FFFF\")\n",
    "list_INTJ.append(\"18FFFF\")\n",
    "list_INTJ.append(\"00E5FF\")\n",
    "list_INTJ.append(\"00B8D4\")\n",
    "list_INTJ.append(\"00BCD4\")\n",
    "\n",
    "for rgb in list_ISFP:\n",
    "    print(getPersonalColor(rgb2lab(hex2rgb(rgb))))"
   ]
  },
  {
   "cell_type": "code",
   "execution_count": 35,
   "metadata": {},
   "outputs": [
    {
     "name": "stdout",
     "output_type": "stream",
     "text": [
      "봄웜톤\n",
      "봄웜톤\n",
      "봄웜톤\n",
      "봄웜톤\n",
      "봄웜톤\n",
      "봄웜톤\n",
      "가을웜톤\n",
      "가을웜톤\n",
      "가을웜톤\n",
      "봄웜톤\n",
      "봄웜톤\n",
      "봄웜톤\n",
      "봄웜톤\n",
      "봄웜톤\n"
     ]
    }
   ],
   "source": [
    "list_ISFP = []\n",
    "list_ISFP.append(\"B2DFDB\")\n",
    "list_ISFP.append(\"80CCC5\")\n",
    "list_ISFP.append(\"4DB6AC\")\n",
    "list_ISFP.append(\"26A69A\")\n",
    "list_ISFP.append(\"009688\")\n",
    "list_ISFP.append(\"00897B\")\n",
    "list_ISFP.append(\"00796B\")\n",
    "list_ISFP.append(\"00695C\")\n",
    "list_ISFP.append(\"004D40\")\n",
    "list_ISFP.append(\"A7FFEC\")\n",
    "list_ISFP.append(\"64FFDA\")\n",
    "list_ISFP.append(\"1DE9B6\")\n",
    "list_ISFP.append(\"00BFA5\")\n",
    "list_ISFP.append(\"009688\")\n",
    "\n",
    "for rgb in list_ISFP:\n",
    "    print(getPersonalColor(rgb2lab(hex2rgb(rgb))))"
   ]
  },
  {
   "cell_type": "code",
   "execution_count": 34,
   "metadata": {},
   "outputs": [
    {
     "name": "stdout",
     "output_type": "stream",
     "text": [
      "봄웜톤\n",
      "봄웜톤\n",
      "봄웜톤\n",
      "봄웜톤\n",
      "봄웜톤\n",
      "봄웜톤\n",
      "봄웜톤\n",
      "가을웜톤\n",
      "가을웜톤\n",
      "봄웜톤\n",
      "봄웜톤\n",
      "봄웜톤\n",
      "봄웜톤\n",
      "봄웜톤\n"
     ]
    }
   ],
   "source": [
    "list_ESTJ = []\n",
    "list_ESTJ.append(\"C8E6C9\")\n",
    "list_ESTJ.append(\"A5D6A7\")\n",
    "list_ESTJ.append(\"81C784\")\n",
    "list_ESTJ.append(\"66BB6A\")\n",
    "list_ESTJ.append(\"4CAF50\")\n",
    "list_ESTJ.append(\"43A047\")\n",
    "list_ESTJ.append(\"388E3C\")\n",
    "list_ESTJ.append(\"2E7D32\")\n",
    "list_ESTJ.append(\"1B5E20\")\n",
    "list_ESTJ.append(\"B9F7CB\")\n",
    "list_ESTJ.append(\"69F0AE\")\n",
    "list_ESTJ.append(\"01E676\")\n",
    "list_ESTJ.append(\"00C853\")\n",
    "list_ESTJ.append(\"4CAF50\")\n",
    "\n",
    "for rgb in list_ESTJ:\n",
    "    print(getPersonalColor(rgb2lab(hex2rgb(rgb))))"
   ]
  },
  {
   "cell_type": "code",
   "execution_count": 33,
   "metadata": {},
   "outputs": [
    {
     "name": "stdout",
     "output_type": "stream",
     "text": [
      "봄웜톤\n",
      "봄웜톤\n",
      "봄웜톤\n",
      "봄웜톤\n",
      "봄웜톤\n",
      "봄웜톤\n",
      "봄웜톤\n",
      "봄웜톤\n",
      "가을웜톤\n",
      "봄웜톤\n",
      "봄웜톤\n",
      "봄웜톤\n",
      "봄웜톤\n",
      "봄웜톤\n"
     ]
    }
   ],
   "source": [
    "list_INFP = []\n",
    "list_INFP.append(\"DCEDC9\")\n",
    "list_INFP.append(\"C5E1A5\")\n",
    "list_INFP.append(\"AED681\")\n",
    "list_INFP.append(\"9CCD65\")\n",
    "list_INFP.append(\"8BC34A\")\n",
    "list_INFP.append(\"7CB342\")\n",
    "list_INFP.append(\"689F38\")\n",
    "list_INFP.append(\"558B2F\")\n",
    "list_INFP.append(\"33691E\")\n",
    "list_INFP.append(\"CCFF90\")\n",
    "list_INFP.append(\"B2FF59\")\n",
    "list_INFP.append(\"76FF03\")\n",
    "list_INFP.append(\"64DD17\")\n",
    "list_INFP.append(\"8BC34A\")\n",
    "\n",
    "for rgb in list_INFP:\n",
    "    print(getPersonalColor(rgb2lab(hex2rgb(rgb))))"
   ]
  },
  {
   "cell_type": "code",
   "execution_count": 32,
   "metadata": {},
   "outputs": [
    {
     "name": "stdout",
     "output_type": "stream",
     "text": [
      "봄웜톤\n",
      "봄웜톤\n",
      "봄웜톤\n",
      "봄웜톤\n",
      "봄웜톤\n",
      "봄웜톤\n",
      "봄웜톤\n",
      "봄웜톤\n",
      "봄웜톤\n",
      "봄웜톤\n",
      "봄웜톤\n",
      "봄웜톤\n",
      "봄웜톤\n",
      "봄웜톤\n"
     ]
    }
   ],
   "source": [
    "list_ESFJ = []\n",
    "list_ESFJ.append(\"F0F5C3\")\n",
    "list_ESFJ.append(\"E6EF9D\")\n",
    "list_ESFJ.append(\"DCE875\")\n",
    "list_ESFJ.append(\"D4E157\")\n",
    "list_ESFJ.append(\"CDDC39\")\n",
    "list_ESFJ.append(\"C0CA33\")\n",
    "list_ESFJ.append(\"AFB42B\")\n",
    "list_ESFJ.append(\"9E9D24\")\n",
    "list_ESFJ.append(\"827717\")\n",
    "list_ESFJ.append(\"F4FF81\")\n",
    "list_ESFJ.append(\"EEFF41\")\n",
    "list_ESFJ.append(\"C6FF01\")\n",
    "list_ESFJ.append(\"AEEA00\")\n",
    "list_ESFJ.append(\"CDDC39\")\n",
    "\n",
    "for rgb in list_ESFP:\n",
    "    print(getPersonalColor(rgb2lab(hex2rgb(rgb))))"
   ]
  },
  {
   "cell_type": "code",
   "execution_count": 29,
   "metadata": {
    "collapsed": true
   },
   "outputs": [
    {
     "name": "stdout",
     "output_type": "stream",
     "text": [
      "['FFF9C4', 'FFF59D', 'FFF276', 'FFEF58', 'FFEC3B', 'FED835', 'FCC02D', 'F9A825', 'F57F17', 'FFFF8D', 'FFFF00', 'FFEA00', 'FFD600', 'FFEC3B']\n",
      "봄웜톤\n",
      "봄웜톤\n",
      "봄웜톤\n",
      "봄웜톤\n",
      "봄웜톤\n",
      "봄웜톤\n",
      "봄웜톤\n",
      "봄웜톤\n",
      "봄웜톤\n",
      "봄웜톤\n",
      "봄웜톤\n",
      "봄웜톤\n",
      "봄웜톤\n",
      "봄웜톤\n"
     ]
    }
   ],
   "source": [
    "list_ESFP = []\n",
    "list_ESFP.append(\"FFF9C4\")\n",
    "list_ESFP.append(\"FFF59D\")\n",
    "list_ESFP.append(\"FFF276\")\n",
    "list_ESFP.append(\"FFEF58\")\n",
    "list_ESFP.append(\"FFEC3B\")\n",
    "list_ESFP.append(\"FED835\")\n",
    "list_ESFP.append(\"FCC02D\")\n",
    "list_ESFP.append(\"F9A825\")\n",
    "list_ESFP.append(\"F57F17\")\n",
    "list_ESFP.append(\"FFFF8D\")\n",
    "list_ESFP.append(\"FFFF00\")\n",
    "list_ESFP.append(\"FFEA00\")\n",
    "list_ESFP.append(\"FFD600\")\n",
    "list_ESFP.append(\"FFEC3B\")\n",
    "\n",
    "print(list_ESFP)\n",
    "\n",
    "for rgb in list_ESFP:\n",
    "    print(getPersonalColor(rgb2lab(hex2rgb(rgb))))"
   ]
  },
  {
   "cell_type": "code",
   "execution_count": 30,
   "metadata": {},
   "outputs": [
    {
     "name": "stdout",
     "output_type": "stream",
     "text": [
      "봄웜톤\n",
      "봄웜톤\n",
      "봄웜톤\n",
      "봄웜톤\n",
      "봄웜톤\n",
      "봄웜톤\n",
      "봄웜톤\n",
      "봄웜톤\n",
      "봄웜톤\n",
      "봄웜톤\n",
      "봄웜톤\n",
      "봄웜톤\n",
      "봄웜톤\n",
      "봄웜톤\n"
     ]
    }
   ],
   "source": [
    "list_ISFP = []\n",
    "list_ISFP.append(\"FFEDB3\")\n",
    "list_ISFP.append(\"FFE182\")\n",
    "list_ISFP.append(\"FFD64F\")\n",
    "list_ISFP.append(\"FFCA28\")\n",
    "list_ISFP.append(\"FFC107\")\n",
    "list_ISFP.append(\"FFB300\")\n",
    "list_ISFP.append(\"FFA000\")\n",
    "list_ISFP.append(\"FF9000\")\n",
    "list_ISFP.append(\"FF6E00\")\n",
    "list_ISFP.append(\"FFE57F\")\n",
    "list_ISFP.append(\"FFD740\")\n",
    "list_ISFP.append(\"FFC400\")\n",
    "list_ISFP.append(\"FFAB00\")\n",
    "list_ISFP.append(\"FFC107\")\n",
    "\n",
    "for rgb in list_ISFP:\n",
    "    print(getPersonalColor(rgb2lab(hex2rgb(rgb))))"
   ]
  },
  {
   "cell_type": "code",
   "execution_count": 31,
   "metadata": {},
   "outputs": [
    {
     "name": "stdout",
     "output_type": "stream",
     "text": [
      "겨울쿨톤\n",
      "겨울쿨톤\n",
      "겨울쿨톤\n",
      "겨울쿨톤\n",
      "겨울쿨톤\n",
      "겨울쿨톤\n",
      "겨울쿨톤\n",
      "겨울쿨톤\n",
      "여름쿨톤\n",
      "겨울쿨톤\n",
      "겨울쿨톤\n",
      "겨울쿨톤\n",
      "여름쿨톤\n",
      "겨울쿨톤\n"
     ]
    }
   ],
   "source": [
    "list_ENTJ = []\n",
    "list_ENTJ.append(\"FFE0B2\")\n",
    "list_ENTJ.append(\"FFCF80\")\n",
    "list_ENTJ.append(\"FFB74D\")\n",
    "list_ENTJ.append(\"FFA726\")\n",
    "list_ENTJ.append(\"FF9800\")\n",
    "list_ENTJ.append(\"FB8C00\")\n",
    "list_ENTJ.append(\"F57C00\")\n",
    "list_ENTJ.append(\"EF6C00\")\n",
    "list_ENTJ.append(\"E65100\")\n",
    "list_ENTJ.append(\"FFCF80\")\n",
    "list_ENTJ.append(\"FFAB40\")\n",
    "list_ENTJ.append(\"FF9000\")\n",
    "list_ENTJ.append(\"FF6E00\")\n",
    "list_ENTJ.append(\"FF9800\")\n",
    "\n",
    "for rgb in list_ENFP:\n",
    "    print(getPersonalColor(rgb2lab(hex2rgb(rgb))))"
   ]
  },
  {
   "cell_type": "code",
   "execution_count": 28,
   "metadata": {},
   "outputs": [
    {
     "name": "stdout",
     "output_type": "stream",
     "text": [
      "['FFCCBC', 'FFAB91', 'FF8A65', 'FF6F41', 'FF5722', 'F4511E', 'E64A19', 'D84315', 'BF360C', 'FF9E80', 'FF6F41', 'FF3D00', 'DD2C00', 'FF5722']\n",
      "겨울쿨톤\n",
      "겨울쿨톤\n",
      "겨울쿨톤\n",
      "겨울쿨톤\n",
      "겨울쿨톤\n",
      "겨울쿨톤\n",
      "겨울쿨톤\n",
      "겨울쿨톤\n",
      "여름쿨톤\n",
      "겨울쿨톤\n",
      "겨울쿨톤\n",
      "겨울쿨톤\n",
      "여름쿨톤\n",
      "겨울쿨톤\n"
     ]
    }
   ],
   "source": [
    "list_ENFP = []\n",
    "list_ENFP.append(\"FFCCBC\")\n",
    "list_ENFP.append(\"FFAB91\")\n",
    "list_ENFP.append(\"FF8A65\")\n",
    "list_ENFP.append(\"FF6F41\")\n",
    "list_ENFP.append(\"FF5722\")\n",
    "list_ENFP.append(\"F4511E\")\n",
    "list_ENFP.append(\"E64A19\")\n",
    "list_ENFP.append(\"D84315\")\n",
    "list_ENFP.append(\"BF360C\")\n",
    "list_ENFP.append(\"FF9E80\")\n",
    "list_ENFP.append(\"FF6F41\")\n",
    "list_ENFP.append(\"FF3D00\")\n",
    "list_ENFP.append(\"DD2C00\")\n",
    "list_ENFP.append(\"FF5722\")\n",
    "\n",
    "print(list_ENFP)\n",
    "\n",
    "for rgb in list_ENFP:\n",
    "    print(getPersonalColor(rgb2lab(hex2rgb(rgb))))"
   ]
  }
 ],
 "metadata": {
  "kernelspec": {
   "display_name": "Python 3",
   "language": "python",
   "name": "python3"
  },
  "language_info": {
   "codemirror_mode": {
    "name": "ipython",
    "version": 3
   },
   "file_extension": ".py",
   "mimetype": "text/x-python",
   "name": "python",
   "nbconvert_exporter": "python",
   "pygments_lexer": "ipython3",
   "version": "3.8.3"
  }
 },
 "nbformat": 4,
 "nbformat_minor": 4
}
